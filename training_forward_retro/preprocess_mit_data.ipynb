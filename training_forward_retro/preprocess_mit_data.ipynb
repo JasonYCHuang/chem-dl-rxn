{
 "cells": [
  {
   "cell_type": "code",
   "execution_count": null,
   "metadata": {},
   "outputs": [],
   "source": [
    "root = './backup/data/STEREO_mixed'"
   ]
  },
  {
   "cell_type": "code",
   "execution_count": null,
   "metadata": {},
   "outputs": [],
   "source": [
    "targets = ['train.rct', 'val.rct', 'test.rct', 'train.prd', 'val.prd', 'test.prd']\n",
    "\n",
    "for t in targets:\n",
    "    with open(f'{root}/{t}', 'r') as f:\n",
    "        lines = f.readlines()\n",
    "\n",
    "    lines = [line.replace(' ', '') for line in lines]\n",
    "    # lines = [line.replace('>', '.') for line in lines]\n",
    "    # lines = [line[:-1] if line[-1] == '.' else line for line in lines]\n",
    "    # lines = [line.replace('.', ' ') for line in lines]\n",
    "\n",
    "    with open(f'{root}/download_small/{t}', 'w') as f:\n",
    "        f.writelines(lines)"
   ]
  },
  {
   "cell_type": "code",
   "execution_count": null,
   "metadata": {},
   "outputs": [],
   "source": []
  },
  {
   "cell_type": "markdown",
   "metadata": {},
   "source": [
    "# Retro"
   ]
  },
  {
   "cell_type": "code",
   "execution_count": 1,
   "metadata": {},
   "outputs": [],
   "source": [
    "root = './backup/data/STEREO_separated'"
   ]
  },
  {
   "cell_type": "code",
   "execution_count": 2,
   "metadata": {},
   "outputs": [],
   "source": [
    "! rm -rf ./backup/data/STEREO_separated/uspto"
   ]
  },
  {
   "cell_type": "code",
   "execution_count": 3,
   "metadata": {},
   "outputs": [],
   "source": [
    "! mkdir ./backup/data/STEREO_separated/uspto"
   ]
  },
  {
   "cell_type": "code",
   "execution_count": 4,
   "metadata": {},
   "outputs": [],
   "source": [
    "targets = ['train.rct', 'val.rct', 'test.rct', 'train.prd', 'val.prd', 'test.prd']\n",
    "\n",
    "for t in targets:\n",
    "    with open(f'{root}/{t}', 'r') as f:\n",
    "        lines = f.readlines()\n",
    "\n",
    "    lines = [line.replace(' ', '') for line in lines]\n",
    "    lines = [line.split('>')[0] for line in lines]\n",
    "    lines = [line if line[-1:] == '\\n' else line + '\\n' for line in lines]\n",
    "\n",
    "    with open(f'{root}/uspto/{t}', 'w') as f:\n",
    "        f.writelines(lines)"
   ]
  },
  {
   "cell_type": "code",
   "execution_count": 6,
   "metadata": {},
   "outputs": [],
   "source": [
    "# ! tar -zcvf "
   ]
  },
  {
   "cell_type": "code",
   "execution_count": null,
   "metadata": {},
   "outputs": [],
   "source": []
  },
  {
   "cell_type": "code",
   "execution_count": null,
   "metadata": {},
   "outputs": [],
   "source": []
  }
 ],
 "metadata": {
  "kernelspec": {
   "display_name": "Python 3",
   "language": "python",
   "name": "python3"
  },
  "language_info": {
   "codemirror_mode": {
    "name": "ipython",
    "version": 3
   },
   "file_extension": ".py",
   "mimetype": "text/x-python",
   "name": "python",
   "nbconvert_exporter": "python",
   "pygments_lexer": "ipython3",
   "version": "3.7.4"
  }
 },
 "nbformat": 4,
 "nbformat_minor": 4
}
