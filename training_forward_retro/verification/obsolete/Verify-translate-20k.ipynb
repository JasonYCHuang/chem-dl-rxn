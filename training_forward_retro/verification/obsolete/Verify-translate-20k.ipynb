{
 "cells": [
  {
   "cell_type": "code",
   "execution_count": 1,
   "metadata": {},
   "outputs": [],
   "source": [
    "from fairseq.models.transformer import TransformerModel"
   ]
  },
  {
   "cell_type": "code",
   "execution_count": 2,
   "metadata": {},
   "outputs": [],
   "source": [
    "root_dir = '/storage/jason/workspace/nlp-rxn-20k'"
   ]
  },
  {
   "cell_type": "code",
   "execution_count": 3,
   "metadata": {},
   "outputs": [
    {
     "name": "stdout",
     "output_type": "stream",
     "text": [
      "Load model OK!\n"
     ]
    }
   ],
   "source": [
    "rxnPred = TransformerModel.from_pretrained(\n",
    "    f'{root_dir}',\n",
    "    checkpoint_file=f'{root_dir}/checkpoints/checkpoint_best.pt',\n",
    "    data_name_or_path=f'{root_dir}/data-bin/uspto_mit_mt.rct-prd/',\n",
    "    bpe='subword_nmt',\n",
    "    bpe_codes=f'{root_dir}/preprocess/uspto_mit_mt/code'\n",
    ")\n",
    "\n",
    "rxnPred.eval()\n",
    "\n",
    "print('Load model OK!')"
   ]
  },
  {
   "cell_type": "code",
   "execution_count": 4,
   "metadata": {},
   "outputs": [
    {
     "name": "stderr",
     "output_type": "stream",
     "text": [
      "/storage/jason/workspace/fairseq/fairseq/sequence_generator.py:373: UserWarning: This overload of nonzero is deprecated:\n",
      "\tnonzero()\n",
      "Consider using one of the following signatures instead:\n",
      "\tnonzero(*, bool as_tuple) (Triggered internally at  /pytorch/torch/csrc/utils/python_arg_parser.cpp:766.)\n",
      "  batch_idxs = batch_mask.nonzero().squeeze(-1)\n"
     ]
    }
   ],
   "source": [
    "ans = rxnPred.translate([\n",
    "    'O=Cc1cncc(Cl)c1COC1CCCCO1 OCc1c(Cl)cncc1Cl',\n",
    "    'O=C(CCCN1CCC(NS(=O)(=O)c2ccccc2)CC1)c1ccccc1 [BH4-] [Na+]',\n",
    "])"
   ]
  },
  {
   "cell_type": "code",
   "execution_count": 5,
   "metadata": {},
   "outputs": [
    {
     "data": {
      "text/plain": [
       "False"
      ]
     },
     "execution_count": 5,
     "metadata": {},
     "output_type": "execute_result"
    }
   ],
   "source": [
    "ans[0] == 'OCc1cncc(Cl)c1COC1CCCCO1'"
   ]
  },
  {
   "cell_type": "code",
   "execution_count": 6,
   "metadata": {},
   "outputs": [
    {
     "data": {
      "text/plain": [
       "True"
      ]
     },
     "execution_count": 6,
     "metadata": {},
     "output_type": "execute_result"
    }
   ],
   "source": [
    "ans[1] == 'O=S(=O)(NC1CCN(CCCC(O)c2ccccc2)CC1)c1ccccc1'"
   ]
  },
  {
   "cell_type": "code",
   "execution_count": null,
   "metadata": {},
   "outputs": [],
   "source": []
  },
  {
   "cell_type": "markdown",
   "metadata": {},
   "source": [
    "# Verify Accuracy"
   ]
  },
  {
   "cell_type": "code",
   "execution_count": 7,
   "metadata": {},
   "outputs": [],
   "source": [
    "root_test_dir = root_dir + '/preprocess/orig/uspto_mit_mt'\n",
    "test_rct, test_prd = 'test.rct', 'test.prd'"
   ]
  },
  {
   "cell_type": "code",
   "execution_count": 8,
   "metadata": {},
   "outputs": [],
   "source": [
    "test_rcts = None\n",
    "with open(f'{root_test_dir}/{test_rct}', 'r') as f:\n",
    "    test_rcts = f.readlines()\n",
    "\n",
    "test_prds = None\n",
    "with open(f'{root_test_dir}/{test_prd}', 'r') as f:\n",
    "    test_prds = f.readlines()"
   ]
  },
  {
   "cell_type": "code",
   "execution_count": 9,
   "metadata": {},
   "outputs": [],
   "source": [
    "ans = rxnPred.translate(test_rcts)"
   ]
  },
  {
   "cell_type": "code",
   "execution_count": 10,
   "metadata": {},
   "outputs": [
    {
     "name": "stdout",
     "output_type": "stream",
     "text": [
      "Accuracy is: 70.7675\n"
     ]
    }
   ],
   "source": [
    "count_correct = 0\n",
    "count_total = len(test_rcts)\n",
    "for idx in range(count_total):\n",
    "    if ans[idx] == test_prds[idx][:-1]:\n",
    "        count_correct += 1\n",
    "        \n",
    "print(f'Accuracy is: { 100.0 * float(count_correct) / count_total }')"
   ]
  },
  {
   "cell_type": "code",
   "execution_count": 11,
   "metadata": {},
   "outputs": [
    {
     "data": {
      "text/plain": [
       "28307"
      ]
     },
     "execution_count": 11,
     "metadata": {},
     "output_type": "execute_result"
    }
   ],
   "source": [
    "count_correct"
   ]
  },
  {
   "cell_type": "code",
   "execution_count": null,
   "metadata": {},
   "outputs": [],
   "source": []
  },
  {
   "cell_type": "code",
   "execution_count": null,
   "metadata": {},
   "outputs": [],
   "source": []
  }
 ],
 "metadata": {
  "kernelspec": {
   "display_name": "Python 3",
   "language": "python",
   "name": "python3"
  },
  "language_info": {
   "codemirror_mode": {
    "name": "ipython",
    "version": 3
   },
   "file_extension": ".py",
   "mimetype": "text/x-python",
   "name": "python",
   "nbconvert_exporter": "python",
   "pygments_lexer": "ipython3",
   "version": "3.7.8"
  }
 },
 "nbformat": 4,
 "nbformat_minor": 4
}
