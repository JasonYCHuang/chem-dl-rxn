{
 "cells": [
  {
   "cell_type": "code",
   "execution_count": 1,
   "metadata": {},
   "outputs": [],
   "source": [
    "from fairseq.models.transformer import TransformerModel"
   ]
  },
  {
   "cell_type": "code",
   "execution_count": 2,
   "metadata": {},
   "outputs": [],
   "source": [
    "root_dir = '/storage/jason/workspace/nlp-rxn'"
   ]
  },
  {
   "cell_type": "code",
   "execution_count": 3,
   "metadata": {},
   "outputs": [
    {
     "name": "stdout",
     "output_type": "stream",
     "text": [
      "Load model OK!\n"
     ]
    }
   ],
   "source": [
    "retroPred = TransformerModel.from_pretrained(\n",
    "    f'{root_dir}',\n",
    "    checkpoint_file=f'{root_dir}/checkpoints/checkpoint_best.pt',\n",
    "    data_name_or_path=f'{root_dir}/data-bin/uspto.prd-rct/',\n",
    "    bpe='subword_nmt',\n",
    "    bpe_codes=f'{root_dir}/preprocess/uspto/code'\n",
    ")\n",
    "\n",
    "retroPred.eval()\n",
    "\n",
    "print('Load model OK!')"
   ]
  },
  {
   "cell_type": "code",
   "execution_count": 4,
   "metadata": {},
   "outputs": [],
   "source": [
    "ans = retroPred.translate([\n",
    "    'CS(=O)(=O)OCCCBr',\n",
    "    'CCSc1ccc2c(c1C)C(C(=O)Oc1ccc([N+](=O)[O-])cc1)=Cc1ccccc1N2C',\n",
    "    'CC(C)(C)NNC1(C#N)CCCCCC1',\n",
    "    'O=C(O)c1ccc(NC(=O)C2CCC2)cc1',\n",
    "    'O=C(O)c1ccc(NC(=O)C2CCC2)cc1[N+](=O)[O-]',\n",
    "    'CCN(CC)CNC(=S)C(c1ccccn1)C(C)C',\n",
    "    'Cc1nc(CC(C)C)c(C)nc1CC(C)C',\n",
    "    'CC(C)NCC(O)COc1ccc(C2=NNC(=O)CC2)cc1',\n",
    "    'COC(=O)CCC(=O)c1ccccc1O',\n",
    "    'N#Cc1ccc(C(=O)CCC(=O)O)cc1N',\n",
    "    'COc1cc(Cc2cnc(N)nc2N)cc(OC)c1CO',\n",
    "    'COc1ccc(NC=O)c(CCC2CCCCN2C)c1',\n",
    "    'CC(Cc1ccccc1N)c1ccccn1',\n",
    "    'CC1(C)c2cc(C(=O)O)ccc2Oc2ncccc21',\n",
    "    'CSc1ccc(NC(=O)OCc2cccnc2)cc1',\n",
    "    'CC(C(=O)O)c1ccc2c(c1)Cc1cccnc1S2',\n",
    "    'CC(C(=O)O)c1ccc2oc3ncccc3c(=O)c2c1',\n",
    "    'O=C=Nc1nnc(C2CCC2)s1',\n",
    "    'CCOC(=O)COc1cncc(Cl)c1',\n",
    "    'COc1ccc(OC)c(C(=O)CC2CCCCN2)c1',\n",
    "])"
   ]
  },
  {
   "cell_type": "code",
   "execution_count": 5,
   "metadata": {},
   "outputs": [],
   "source": [
    "targets = [\n",
    "    'CS(=O)(=O)Cl.OCCCBr',\n",
    "    'C(=NC1CCCCC1)=NC1CCCCC1.CCOC(C)=O.CCSc1ccc2c(c1)C(CC(=O)O)=Cc1ccccc1N2C.O=[N+]([O-])c1ccc(O)cc1',\n",
    "    'CC(C)(C)NNC(C)(C#N)C1CC1.O=C1CCCCCC1',\n",
    "    'Nc1ccc(C(=O)O)cc1.O=C(Cl)C1CCC1',\n",
    "    'Nc1ccc(C(=O)O)c([N+](=O)[O-])c1.O=C(Cl)C1CCC1',\n",
    "    'C=O.CC(C)C(C(N)=S)c1ccccn1.CCNCC',\n",
    "    'CC(=O)C(CC(C)C)=NO.CC(=O)CCC(C)C.O=NCl',\n",
    "    'CC(C)N.O=C1CCC(c2ccc(OCC3CO3)cc2)=NN1',\n",
    "    'CO.O=C(O)CCC(=O)c1ccccc1O',\n",
    "    'N#Cc1ccc(C(=O)CCC(=O)O)cc1[N+](=O)[O-]',\n",
    "    'C1COCCO1.CO.COC(=O)c1cc(OC)c(Cc2cnc(N)nc2N)c(OC)c1',\n",
    "    'COc1ccc(NC=O)c(CCc2cccc[n+]2C)c1',\n",
    "    'CC(=Cc1ccccn1)c1ccccc1[N+](=O)[O-].CCO',\n",
    "    'CC(=O)c1ccc2c(c1)C(C)(C)c1cccnc1O2.[OH-]',\n",
    "    'CSc1ccc(N=C=O)cc1.OCc1cccnc1',\n",
    "    'CCOC(=O)C(C)c1ccc2c(c1)Cc1cccnc1S2',\n",
    "    'CC(C(=O)O)c1ccc(O)c(C(=O)c2cccnc2Cl)c1',\n",
    "    'Nc1nnc(C2CCC2)s1.O=C(Cl)Cl',\n",
    "    'CCOC(=O)COc1cc(Cl)cnc1Cl',\n",
    "    'C1=NCCCC1.COc1ccc(OC)c(C(C)=O)c1',\n",
    "]\n"
   ]
  },
  {
   "cell_type": "code",
   "execution_count": 6,
   "metadata": {},
   "outputs": [
    {
     "name": "stdout",
     "output_type": "stream",
     "text": [
      "CS(=O)(=O)Cl.OCCCBr\n",
      "CS(=O)(=O)Cl.OCCCBr\n",
      "Nc1ccc(C(=O)O)cc1.O=C(Cl)C1CCC1\n",
      "Nc1ccc(C(=O)O)cc1.O=C(Cl)C1CCC1\n",
      "Nc1ccc(C(=O)O)c([N+](=O)[O-])c1.O=C(Cl)C1CCC1\n",
      "Nc1ccc(C(=O)O)c([N+](=O)[O-])c1.O=C(Cl)C1CCC1\n",
      "CC(C)N.O=C1CCC(c2ccc(OCC3CO3)cc2)=NN1\n",
      "CC(C)N.O=C1CCC(c2ccc(OCC3CO3)cc2)=NN1\n",
      "N#Cc1ccc(C(=O)CCC(=O)O)cc1[N+](=O)[O-]\n",
      "N#Cc1ccc(C(=O)CCC(=O)O)cc1[N+](=O)[O-]\n",
      "CSc1ccc(N=C=O)cc1.OCc1cccnc1\n",
      "CSc1ccc(N=C=O)cc1.OCc1cccnc1\n",
      "Nc1nnc(C2CCC2)s1.O=C(Cl)Cl\n",
      "Nc1nnc(C2CCC2)s1.O=C(Cl)Cl\n",
      "correct count = 7 out of 20\n",
      "35.0 %\n"
     ]
    }
   ],
   "source": [
    "count = 0\n",
    "\n",
    "for idx in range(20):\n",
    "    if targets[idx] == ans[idx]:\n",
    "        count += 1\n",
    "        print(targets[idx])\n",
    "        print(ans[idx])\n",
    "\n",
    "print(f'correct count = {count} out of {len(ans)}')\n",
    "print(f'{100.0 * count / len(ans)} %')"
   ]
  },
  {
   "cell_type": "code",
   "execution_count": null,
   "metadata": {},
   "outputs": [],
   "source": []
  },
  {
   "cell_type": "markdown",
   "metadata": {},
   "source": [
    "# Verify Accuracy"
   ]
  },
  {
   "cell_type": "code",
   "execution_count": 7,
   "metadata": {},
   "outputs": [],
   "source": [
    "root_test_dir = root_dir + '/preprocess/orig/uspto'\n",
    "test_rct, test_prd = 'test.rct', 'test.prd'"
   ]
  },
  {
   "cell_type": "code",
   "execution_count": 8,
   "metadata": {},
   "outputs": [],
   "source": [
    "test_rcts = None\n",
    "with open(f'{root_test_dir}/{test_rct}', 'r') as f:\n",
    "    test_rcts = f.readlines()\n",
    "\n",
    "test_prds = None\n",
    "with open(f'{root_test_dir}/{test_prd}', 'r') as f:\n",
    "    test_prds = f.readlines()"
   ]
  },
  {
   "cell_type": "code",
   "execution_count": 9,
   "metadata": {},
   "outputs": [],
   "source": [
    "ans = retroPred.translate(test_prds)"
   ]
  },
  {
   "cell_type": "code",
   "execution_count": 10,
   "metadata": {},
   "outputs": [
    {
     "name": "stdout",
     "output_type": "stream",
     "text": [
      "Accuracy is: 41.282979824107606\n"
     ]
    }
   ],
   "source": [
    "count_correct = 0\n",
    "count_total = len(test_prds)\n",
    "for idx in range(count_total):\n",
    "    if ans[idx] == test_rcts[idx][:-1]:\n",
    "        count_correct += 1\n",
    "        \n",
    "print(f'Accuracy is: { 100.0 * float(count_correct) / count_total }')"
   ]
  },
  {
   "cell_type": "code",
   "execution_count": 11,
   "metadata": {},
   "outputs": [
    {
     "data": {
      "text/plain": [
       "20748"
      ]
     },
     "execution_count": 11,
     "metadata": {},
     "output_type": "execute_result"
    }
   ],
   "source": [
    "count_correct"
   ]
  },
  {
   "cell_type": "code",
   "execution_count": null,
   "metadata": {},
   "outputs": [],
   "source": []
  },
  {
   "cell_type": "code",
   "execution_count": null,
   "metadata": {},
   "outputs": [],
   "source": []
  }
 ],
 "metadata": {
  "kernelspec": {
   "display_name": "fairseq-11",
   "language": "python",
   "name": "fairseq-11"
  },
  "language_info": {
   "codemirror_mode": {
    "name": "ipython",
    "version": 3
   },
   "file_extension": ".py",
   "mimetype": "text/x-python",
   "name": "python",
   "nbconvert_exporter": "python",
   "pygments_lexer": "ipython3",
   "version": "3.7.8"
  }
 },
 "nbformat": 4,
 "nbformat_minor": 4
}
