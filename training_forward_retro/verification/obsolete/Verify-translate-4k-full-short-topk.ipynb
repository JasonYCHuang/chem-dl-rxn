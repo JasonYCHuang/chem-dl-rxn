{
 "cells": [
  {
   "cell_type": "code",
   "execution_count": 1,
   "metadata": {},
   "outputs": [],
   "source": [
    "from fairseq.models.transformer import TransformerModel"
   ]
  },
  {
   "cell_type": "markdown",
   "metadata": {},
   "source": [
    "# Top-K"
   ]
  },
  {
   "cell_type": "code",
   "execution_count": 2,
   "metadata": {},
   "outputs": [],
   "source": [
    "def translate_top_k(model, inputs, k=5):\n",
    "    in_bins = []\n",
    "    for inp in inputs:\n",
    "        toks = model.tokenize(inp)\n",
    "        bpe = model.apply_bpe(toks)\n",
    "        in_bin = model.binarize(bpe)\n",
    "        in_bins.append(in_bin)\n",
    "\n",
    "    out_bins = model.generate(in_bins, beam=k)\n",
    "    results = []\n",
    "    for ob in out_bins:\n",
    "        outs = []\n",
    "        for o in ob:\n",
    "            bpe = model.string(o['tokens'])\n",
    "            toks = model.remove_bpe(bpe)\n",
    "            out = model.detokenize(toks)\n",
    "            outs.append(out)\n",
    "        results.append(list(set(outs))[:k])\n",
    "    return results"
   ]
  },
  {
   "cell_type": "code",
   "execution_count": null,
   "metadata": {},
   "outputs": [],
   "source": []
  },
  {
   "cell_type": "markdown",
   "metadata": {},
   "source": [
    "# FORWARD"
   ]
  },
  {
   "cell_type": "code",
   "execution_count": 3,
   "metadata": {},
   "outputs": [],
   "source": [
    "forward_root_dir = '../forward'"
   ]
  },
  {
   "cell_type": "code",
   "execution_count": 4,
   "metadata": {},
   "outputs": [
    {
     "name": "stdout",
     "output_type": "stream",
     "text": [
      "Load FORWARD model OK!\n"
     ]
    }
   ],
   "source": [
    "forwardPred = TransformerModel.from_pretrained(\n",
    "    f'{forward_root_dir}',\n",
    "    checkpoint_file=f'{forward_root_dir}/checkpoints/checkpoint_best.pt',\n",
    "    data_name_or_path=f'{forward_root_dir}/data-bin/uspto.rct-prd/',\n",
    "    bpe='subword_nmt',\n",
    "    bpe_codes=f'{forward_root_dir}/preprocess/uspto/code'\n",
    ")\n",
    "\n",
    "forwardPred.eval()\n",
    "\n",
    "print('Load FORWARD model OK!')"
   ]
  },
  {
   "cell_type": "code",
   "execution_count": 5,
   "metadata": {},
   "outputs": [],
   "source": [
    "ans = forwardPred.translate([\n",
    "    'CCN(CC)CC.CCOCC.CS(=O)(=O)Cl.OCCCBr',\n",
    "])"
   ]
  },
  {
   "cell_type": "code",
   "execution_count": 6,
   "metadata": {},
   "outputs": [],
   "source": [
    "targets = [\n",
    "    'CS(=O)(=O)OCCCBr',\n",
    "]"
   ]
  },
  {
   "cell_type": "code",
   "execution_count": 7,
   "metadata": {},
   "outputs": [
    {
     "data": {
      "text/plain": [
       "True"
      ]
     },
     "execution_count": 7,
     "metadata": {},
     "output_type": "execute_result"
    }
   ],
   "source": [
    "ans[0] == targets[0]"
   ]
  },
  {
   "cell_type": "code",
   "execution_count": 8,
   "metadata": {},
   "outputs": [
    {
     "data": {
      "text/plain": [
       "[['CS(=O)(=O)OCCCBr',\n",
       "  'CS(=O)(=O)C(O)CCBr',\n",
       "  'CS(=O)(=O)NCCCBr',\n",
       "  'CS(=O)(=O)CCCBr',\n",
       "  'N#CCCCBr']]"
      ]
     },
     "execution_count": 8,
     "metadata": {},
     "output_type": "execute_result"
    }
   ],
   "source": [
    "inputs = [\n",
    "    'CCN(CC)CC.CCOCC.CS(=O)(=O)Cl.OCCCBr',\n",
    "]\n",
    "\n",
    "translate_top_k(forwardPred, inputs, k=5)"
   ]
  },
  {
   "cell_type": "code",
   "execution_count": null,
   "metadata": {},
   "outputs": [],
   "source": []
  },
  {
   "cell_type": "code",
   "execution_count": null,
   "metadata": {},
   "outputs": [],
   "source": []
  },
  {
   "cell_type": "markdown",
   "metadata": {},
   "source": [
    "# RETRO"
   ]
  },
  {
   "cell_type": "code",
   "execution_count": 9,
   "metadata": {},
   "outputs": [],
   "source": [
    "retro_root_dir = '../retro'"
   ]
  },
  {
   "cell_type": "code",
   "execution_count": 10,
   "metadata": {},
   "outputs": [
    {
     "name": "stdout",
     "output_type": "stream",
     "text": [
      "Load RETRO model OK!\n"
     ]
    }
   ],
   "source": [
    "retroPred = TransformerModel.from_pretrained(\n",
    "    f'{retro_root_dir}',\n",
    "    checkpoint_file=f'{retro_root_dir}/checkpoints/checkpoint_best.pt',\n",
    "    data_name_or_path=f'{retro_root_dir}/data-bin/uspto.prd-rct/',\n",
    "    bpe='subword_nmt',\n",
    "    bpe_codes=f'{retro_root_dir}/preprocess/uspto/code'\n",
    ")\n",
    "\n",
    "retroPred.eval()\n",
    "\n",
    "print('Load RETRO model OK!')"
   ]
  },
  {
   "cell_type": "code",
   "execution_count": 11,
   "metadata": {},
   "outputs": [],
   "source": [
    "ans = retroPred.translate([\n",
    "    'CS(=O)(=O)OCCCBr',\n",
    "])"
   ]
  },
  {
   "cell_type": "code",
   "execution_count": 12,
   "metadata": {},
   "outputs": [],
   "source": [
    "targets = [\n",
    "    'CS(=O)(=O)Cl.OCCCBr',\n",
    "]\n"
   ]
  },
  {
   "cell_type": "code",
   "execution_count": 13,
   "metadata": {},
   "outputs": [
    {
     "data": {
      "text/plain": [
       "True"
      ]
     },
     "execution_count": 13,
     "metadata": {},
     "output_type": "execute_result"
    }
   ],
   "source": [
    "ans[0] == targets[0]"
   ]
  },
  {
   "cell_type": "code",
   "execution_count": 14,
   "metadata": {},
   "outputs": [
    {
     "data": {
      "text/plain": [
       "[['CC(O)Br.CS(=O)(=O)Cl.O=C([O-])[O-]',\n",
       "  'CC(O)Br.CS(=O)(=O)Cl',\n",
       "  'CS(=O)(=O)Cl.OCCCBr',\n",
       "  'CCC(O)Br.CS(=O)(=O)Cl.O=C([O-])O',\n",
       "  'BrCCCBr.CS(=O)(=O)O']]"
      ]
     },
     "execution_count": 14,
     "metadata": {},
     "output_type": "execute_result"
    }
   ],
   "source": [
    "inputs = [\n",
    "    'CS(=O)(=O)OCCCBr',\n",
    "]\n",
    "\n",
    "translate_top_k(retroPred, inputs, k=5)"
   ]
  },
  {
   "cell_type": "code",
   "execution_count": null,
   "metadata": {},
   "outputs": [],
   "source": []
  }
 ],
 "metadata": {
  "kernelspec": {
   "display_name": "retro-forward-02",
   "language": "python",
   "name": "retro-forward-02"
  },
  "language_info": {
   "codemirror_mode": {
    "name": "ipython",
    "version": 3
   },
   "file_extension": ".py",
   "mimetype": "text/x-python",
   "name": "python",
   "nbconvert_exporter": "python",
   "pygments_lexer": "ipython3",
   "version": "3.6.12"
  }
 },
 "nbformat": 4,
 "nbformat_minor": 4
}
