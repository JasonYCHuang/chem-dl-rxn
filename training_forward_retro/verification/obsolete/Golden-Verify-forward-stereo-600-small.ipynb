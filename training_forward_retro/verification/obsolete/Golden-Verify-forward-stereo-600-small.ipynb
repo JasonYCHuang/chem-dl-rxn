{
 "cells": [
  {
   "cell_type": "code",
   "execution_count": 1,
   "metadata": {},
   "outputs": [],
   "source": [
    "from fairseq.models.transformer import TransformerModel"
   ]
  },
  {
   "cell_type": "code",
   "execution_count": 2,
   "metadata": {},
   "outputs": [],
   "source": [
    "root_dir = '/storage/jason/workspace/nlp-rxn'"
   ]
  },
  {
   "cell_type": "code",
   "execution_count": 3,
   "metadata": {},
   "outputs": [
    {
     "name": "stdout",
     "output_type": "stream",
     "text": [
      "Load model OK!\n"
     ]
    }
   ],
   "source": [
    "rxnPred = TransformerModel.from_pretrained(\n",
    "    f'{root_dir}',\n",
    "    checkpoint_file=f'{root_dir}/checkpoints/checkpoint_best.pt',\n",
    "    data_name_or_path=f'{root_dir}/data-bin/uspto.rct-prd/',\n",
    "    bpe='subword_nmt',\n",
    "    bpe_codes=f'{root_dir}/preprocess/uspto/code'\n",
    ")\n",
    "\n",
    "rxnPred.eval()\n",
    "\n",
    "print('Load model OK!')"
   ]
  },
  {
   "cell_type": "code",
   "execution_count": 4,
   "metadata": {},
   "outputs": [],
   "source": [
    "ans = rxnPred.translate([\n",
    "    'CS(=O)(=O)Cl.OCCCBr',\n",
    "])"
   ]
  },
  {
   "cell_type": "code",
   "execution_count": 5,
   "metadata": {},
   "outputs": [
    {
     "data": {
      "text/plain": [
       "True"
      ]
     },
     "execution_count": 5,
     "metadata": {},
     "output_type": "execute_result"
    }
   ],
   "source": [
    "ans[0] == 'CS(=O)(=O)OCCCBr'"
   ]
  },
  {
   "cell_type": "code",
   "execution_count": null,
   "metadata": {},
   "outputs": [],
   "source": []
  },
  {
   "cell_type": "markdown",
   "metadata": {},
   "source": [
    "# Verify Accuracy"
   ]
  },
  {
   "cell_type": "code",
   "execution_count": 6,
   "metadata": {},
   "outputs": [],
   "source": [
    "root_test_dir = root_dir + '/preprocess/orig/uspto'\n",
    "test_rct, test_prd = 'test.rct', 'test.prd'"
   ]
  },
  {
   "cell_type": "code",
   "execution_count": 7,
   "metadata": {},
   "outputs": [],
   "source": [
    "test_rcts = None\n",
    "with open(f'{root_test_dir}/{test_rct}', 'r') as f:\n",
    "    test_rcts = f.readlines()\n",
    "\n",
    "test_prds = None\n",
    "with open(f'{root_test_dir}/{test_prd}', 'r') as f:\n",
    "    test_prds = f.readlines()"
   ]
  },
  {
   "cell_type": "code",
   "execution_count": 8,
   "metadata": {},
   "outputs": [],
   "source": [
    "ans = rxnPred.translate(test_rcts)"
   ]
  },
  {
   "cell_type": "code",
   "execution_count": 9,
   "metadata": {},
   "outputs": [
    {
     "name": "stdout",
     "output_type": "stream",
     "text": [
      "Accuracy is: 72.24 %\n"
     ]
    }
   ],
   "source": [
    "count_correct = 0\n",
    "count_total = len(test_rcts)\n",
    "for idx in range(count_total):\n",
    "    if ans[idx] == test_prds[idx][:-1]:\n",
    "        count_correct += 1\n",
    "        \n",
    "print('Accuracy is: {:.2f} %'.format(100.0 * float(count_correct) / count_total))"
   ]
  },
  {
   "cell_type": "code",
   "execution_count": 10,
   "metadata": {},
   "outputs": [
    {
     "data": {
      "text/plain": [
       "36305"
      ]
     },
     "execution_count": 10,
     "metadata": {},
     "output_type": "execute_result"
    }
   ],
   "source": [
    "count_correct"
   ]
  },
  {
   "cell_type": "markdown",
   "metadata": {},
   "source": [
    "# RDKIT canoSmiles check"
   ]
  },
  {
   "cell_type": "code",
   "execution_count": 11,
   "metadata": {},
   "outputs": [],
   "source": [
    "from rdkit import Chem"
   ]
  },
  {
   "cell_type": "code",
   "execution_count": 12,
   "metadata": {},
   "outputs": [],
   "source": [
    "import rdkit.rdBase as rkrb\n",
    "import rdkit.RDLogger as rkl\n",
    "logger = rkl.logger()\n",
    "logger.setLevel(rkl.ERROR)\n",
    "rkrb.DisableLog('rdApp.error')"
   ]
  },
  {
   "cell_type": "code",
   "execution_count": 13,
   "metadata": {},
   "outputs": [
    {
     "name": "stdout",
     "output_type": "stream",
     "text": [
      "Accuracy is: 73.43 %\n"
     ]
    }
   ],
   "source": [
    "count_correct = 0\n",
    "count_total = len(test_rcts)\n",
    "count_error = 0\n",
    "for idx in range(count_total):\n",
    "    a = ans[idx]\n",
    "    t = test_prds[idx][:-1]\n",
    "    try:\n",
    "        if Chem.CanonSmiles(a) == Chem.CanonSmiles(t):\n",
    "            count_correct += 1\n",
    "    except:\n",
    "        count_error += 1\n",
    "        \n",
    "print('Accuracy is: {:.2f} %'.format(100.0 * float(count_correct) / count_total))"
   ]
  },
  {
   "cell_type": "code",
   "execution_count": 14,
   "metadata": {},
   "outputs": [
    {
     "name": "stdout",
     "output_type": "stream",
     "text": [
      "Accuracy is: 0.74 %\n"
     ]
    }
   ],
   "source": [
    "print('Accuracy is: {:.2f} %'.format(100.0 * float(count_error) / count_total))"
   ]
  },
  {
   "cell_type": "code",
   "execution_count": null,
   "metadata": {},
   "outputs": [],
   "source": []
  }
 ],
 "metadata": {
  "kernelspec": {
   "display_name": "fairseq-11",
   "language": "python",
   "name": "fairseq-11"
  },
  "language_info": {
   "codemirror_mode": {
    "name": "ipython",
    "version": 3
   },
   "file_extension": ".py",
   "mimetype": "text/x-python",
   "name": "python",
   "nbconvert_exporter": "python",
   "pygments_lexer": "ipython3",
   "version": "3.7.8"
  }
 },
 "nbformat": 4,
 "nbformat_minor": 4
}
