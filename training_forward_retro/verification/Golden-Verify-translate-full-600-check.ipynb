{
 "cells": [
  {
   "cell_type": "code",
   "execution_count": 1,
   "metadata": {},
   "outputs": [],
   "source": [
    "from fairseq.models.transformer import TransformerModel"
   ]
  },
  {
   "cell_type": "markdown",
   "metadata": {},
   "source": [
    "# FORWARD"
   ]
  },
  {
   "cell_type": "code",
   "execution_count": 2,
   "metadata": {},
   "outputs": [],
   "source": [
    "forward_root_dir = '../forward'"
   ]
  },
  {
   "cell_type": "code",
   "execution_count": 3,
   "metadata": {},
   "outputs": [
    {
     "name": "stdout",
     "output_type": "stream",
     "text": [
      "Load FORWARD model OK!\n"
     ]
    }
   ],
   "source": [
    "forwardPred = TransformerModel.from_pretrained(\n",
    "    f'{forward_root_dir}',\n",
    "    checkpoint_file=f'{forward_root_dir}/checkpoints/checkpoint_best.pt',\n",
    "    data_name_or_path=f'{forward_root_dir}/data-bin/uspto.rct-prd/',\n",
    "    bpe='subword_nmt',\n",
    "    bpe_codes=f'{forward_root_dir}/preprocess/uspto/code'\n",
    ")\n",
    "\n",
    "forwardPred.eval()\n",
    "\n",
    "print('Load FORWARD model OK!')"
   ]
  },
  {
   "cell_type": "code",
   "execution_count": 4,
   "metadata": {},
   "outputs": [],
   "source": [
    "ans = forwardPred.translate([\n",
    "    'CCN(CC)CC.CCOCC.CS(=O)(=O)Cl.OCCCBr',\n",
    "    'C(=NC1CCCCC1)=NC1CCCCC1.CCOC(C)=O.CCSc1ccc2c(c1)C(CC(=O)O)=Cc1ccccc1N2C.O=[N+]([O-])c1ccc(O)cc1',\n",
    "    'CC(=O)C1CC1.CC(C)(C)NNC(C)(C#N)C1CC1.O=C1CCCCCC1',\n",
    "    'Nc1ccc(C(=O)O)cc1.O=C(Cl)C1CCC1',\n",
    "    'Nc1ccc(C(=O)O)c([N+](=O)[O-])c1.O=C(Cl)C1CCC1',\n",
    "    'C=O.CC(C)C(C(N)=S)c1ccccn1.CCNCC.CO',\n",
    "    'CC(=O)C(CC(C)C)=NO.CC(=O)CCC(C)C.CC(=O)O.N=C=O.O=NCl.[Zn]',\n",
    "    'CC(C)N.CO.O=C1CCC(c2ccc(OCC3CO3)cc2)=NN1',\n",
    "    'CO.Cl.O=C(O)CCC(=O)c1ccccc1O',\n",
    "    'N#Cc1ccc(C(=O)CCC(=O)O)cc1[N+](=O)[O-].[NH4+].[OH-]',\n",
    "    'C1COCCO1.CC(C)C[Al+]CC(C)C.CO.COC(=O)c1cc(OC)c(Cc2cnc(N)nc2N)c(OC)c1.O.[H-]',\n",
    "    'COc1ccc(NC=O)c(CCc2cccc[n+]2C)c1.C[n+]1ccccc1C=Cc1ccccc1[N+](=O)[O-].[I-]',\n",
    "    'CC(=Cc1ccccn1)c1ccccc1[N+](=O)[O-].CCO.[Pd]',\n",
    "    'BrBr.C1COCCO1.CC(=O)c1ccc2c(c1)C(C)(C)c1cccnc1O2.O.[Na+].[OH-]',\n",
    "    'C1CN2CCN1CC2.CSc1ccc(N=C=O)cc1.OCc1cccnc1.c1ccccc1',\n",
    "    'CCO.CCOC(=O)C(C)c1ccc2c(c1)Cc1cccnc1S2.O.[Na+].[OH-]',\n",
    "    'CC(C(=O)O)c1ccc(O)c(C(=O)c2cccnc2Cl)c1.I[Cu]I.O.[Cu].[Na+].[OH-]',\n",
    "    'CCOC(C)=O.Nc1nnc(C2CCC2)s1.O=C(Cl)Cl',\n",
    "    'CC(=O)O.CCOC(=O)COc1cc(Cl)cnc1Cl',\n",
    "    'C1=NCCCC1.C1CCN2C(C1)N1CCCCC1N1CCCCC21.CCOCC.CN(C)C=O.CO.COC(=O)[O-].COC(=O)[O-].COc1ccc(OC)c(C(C)=O)c1.O=C=O.[Mg+2]',\n",
    "])"
   ]
  },
  {
   "cell_type": "code",
   "execution_count": 5,
   "metadata": {},
   "outputs": [],
   "source": [
    "targets = [\n",
    "    'CS(=O)(=O)OCCCBr',\n",
    "    'CCSc1ccc2c(c1C)C(C(=O)Oc1ccc([N+](=O)[O-])cc1)=Cc1ccccc1N2C',\n",
    "    'CC(C)(C)NNC1(C#N)CCCCCC1',\n",
    "    'O=C(O)c1ccc(NC(=O)C2CCC2)cc1',\n",
    "    'O=C(O)c1ccc(NC(=O)C2CCC2)cc1[N+](=O)[O-]',\n",
    "    'CCN(CC)CNC(=S)C(c1ccccn1)C(C)C',\n",
    "    'Cc1nc(CC(C)C)c(C)nc1CC(C)C',\n",
    "    'CC(C)NCC(O)COc1ccc(C2=NNC(=O)CC2)cc1',\n",
    "    'COC(=O)CCC(=O)c1ccccc1O',\n",
    "    'N#Cc1ccc(C(=O)CCC(=O)O)cc1N',\n",
    "    'COc1cc(Cc2cnc(N)nc2N)cc(OC)c1CO',\n",
    "    'COc1ccc(NC=O)c(CCC2CCCCN2C)c1',\n",
    "    'CC(Cc1ccccc1N)c1ccccn1',\n",
    "    'CC1(C)c2cc(C(=O)O)ccc2Oc2ncccc21',\n",
    "    'CSc1ccc(NC(=O)OCc2cccnc2)cc1',\n",
    "    'CC(C(=O)O)c1ccc2c(c1)Cc1cccnc1S2',\n",
    "    'CC(C(=O)O)c1ccc2oc3ncccc3c(=O)c2c1',\n",
    "    'O=C=Nc1nnc(C2CCC2)s1',\n",
    "    'CCOC(=O)COc1cncc(Cl)c1',\n",
    "    'COc1ccc(OC)c(C(=O)CC2CCCCN2)c1',\n",
    "]"
   ]
  },
  {
   "cell_type": "code",
   "execution_count": 6,
   "metadata": {},
   "outputs": [
    {
     "name": "stdout",
     "output_type": "stream",
     "text": [
      "correct count = 12 out of 20\n",
      "60.0 %\n"
     ]
    }
   ],
   "source": [
    "count = 0\n",
    "\n",
    "for idx in range(20):\n",
    "    if targets[idx] == ans[idx]:\n",
    "        count += 1\n",
    "\n",
    "print(f'correct count = {count} out of {len(ans)}')\n",
    "print(f'{100.0 * count / len(ans)} %')"
   ]
  },
  {
   "cell_type": "code",
   "execution_count": null,
   "metadata": {},
   "outputs": [],
   "source": []
  },
  {
   "cell_type": "code",
   "execution_count": null,
   "metadata": {},
   "outputs": [],
   "source": []
  },
  {
   "cell_type": "markdown",
   "metadata": {},
   "source": [
    "# RETRO"
   ]
  },
  {
   "cell_type": "code",
   "execution_count": 7,
   "metadata": {},
   "outputs": [],
   "source": [
    "retro_root_dir = '../retro'"
   ]
  },
  {
   "cell_type": "code",
   "execution_count": 8,
   "metadata": {},
   "outputs": [
    {
     "name": "stdout",
     "output_type": "stream",
     "text": [
      "Load RETRO model OK!\n"
     ]
    }
   ],
   "source": [
    "retroPred = TransformerModel.from_pretrained(\n",
    "    f'{retro_root_dir}',\n",
    "    checkpoint_file=f'{retro_root_dir}/checkpoints/checkpoint_best.pt',\n",
    "    data_name_or_path=f'{retro_root_dir}/data-bin/uspto.prd-rct/',\n",
    "    bpe='subword_nmt',\n",
    "    bpe_codes=f'{retro_root_dir}/preprocess/uspto/code'\n",
    ")\n",
    "\n",
    "retroPred.eval()\n",
    "\n",
    "print('Load RETRO model OK!')"
   ]
  },
  {
   "cell_type": "code",
   "execution_count": 9,
   "metadata": {},
   "outputs": [],
   "source": [
    "ans = retroPred.translate([\n",
    "    'CS(=O)(=O)OCCCBr',\n",
    "    'CCSc1ccc2c(c1C)C(C(=O)Oc1ccc([N+](=O)[O-])cc1)=Cc1ccccc1N2C',\n",
    "    'CC(C)(C)NNC1(C#N)CCCCCC1',\n",
    "    'O=C(O)c1ccc(NC(=O)C2CCC2)cc1',\n",
    "    'O=C(O)c1ccc(NC(=O)C2CCC2)cc1[N+](=O)[O-]',\n",
    "    'CCN(CC)CNC(=S)C(c1ccccn1)C(C)C',\n",
    "    'Cc1nc(CC(C)C)c(C)nc1CC(C)C',\n",
    "    'CC(C)NCC(O)COc1ccc(C2=NNC(=O)CC2)cc1',\n",
    "    'COC(=O)CCC(=O)c1ccccc1O',\n",
    "    'N#Cc1ccc(C(=O)CCC(=O)O)cc1N',\n",
    "    'COc1cc(Cc2cnc(N)nc2N)cc(OC)c1CO',\n",
    "    'COc1ccc(NC=O)c(CCC2CCCCN2C)c1',\n",
    "    'CC(Cc1ccccc1N)c1ccccn1',\n",
    "    'CC1(C)c2cc(C(=O)O)ccc2Oc2ncccc21',\n",
    "    'CSc1ccc(NC(=O)OCc2cccnc2)cc1',\n",
    "    'CC(C(=O)O)c1ccc2c(c1)Cc1cccnc1S2',\n",
    "    'CC(C(=O)O)c1ccc2oc3ncccc3c(=O)c2c1',\n",
    "    'O=C=Nc1nnc(C2CCC2)s1',\n",
    "    'CCOC(=O)COc1cncc(Cl)c1',\n",
    "    'COc1ccc(OC)c(C(=O)CC2CCCCN2)c1',\n",
    "])"
   ]
  },
  {
   "cell_type": "code",
   "execution_count": 10,
   "metadata": {},
   "outputs": [],
   "source": [
    "targets = [\n",
    "    'CS(=O)(=O)Cl.OCCCBr',\n",
    "    'C(=NC1CCCCC1)=NC1CCCCC1.CCOC(C)=O.CCSc1ccc2c(c1)C(CC(=O)O)=Cc1ccccc1N2C.O=[N+]([O-])c1ccc(O)cc1',\n",
    "    'CC(C)(C)NNC(C)(C#N)C1CC1.O=C1CCCCCC1',\n",
    "    'Nc1ccc(C(=O)O)cc1.O=C(Cl)C1CCC1',\n",
    "    'Nc1ccc(C(=O)O)c([N+](=O)[O-])c1.O=C(Cl)C1CCC1',\n",
    "    'C=O.CC(C)C(C(N)=S)c1ccccn1.CCNCC',\n",
    "    'CC(=O)C(CC(C)C)=NO.CC(=O)CCC(C)C.O=NCl',\n",
    "    'CC(C)N.O=C1CCC(c2ccc(OCC3CO3)cc2)=NN1',\n",
    "    'CO.O=C(O)CCC(=O)c1ccccc1O',\n",
    "    'N#Cc1ccc(C(=O)CCC(=O)O)cc1[N+](=O)[O-]',\n",
    "    'C1COCCO1.CO.COC(=O)c1cc(OC)c(Cc2cnc(N)nc2N)c(OC)c1',\n",
    "    'COc1ccc(NC=O)c(CCc2cccc[n+]2C)c1',\n",
    "    'CC(=Cc1ccccn1)c1ccccc1[N+](=O)[O-].CCO',\n",
    "    'CC(=O)c1ccc2c(c1)C(C)(C)c1cccnc1O2.[OH-]',\n",
    "    'CSc1ccc(N=C=O)cc1.OCc1cccnc1',\n",
    "    'CCOC(=O)C(C)c1ccc2c(c1)Cc1cccnc1S2',\n",
    "    'CC(C(=O)O)c1ccc(O)c(C(=O)c2cccnc2Cl)c1',\n",
    "    'Nc1nnc(C2CCC2)s1.O=C(Cl)Cl',\n",
    "    'CCOC(=O)COc1cc(Cl)cnc1Cl',\n",
    "    'C1=NCCCC1.COc1ccc(OC)c(C(C)=O)c1',\n",
    "]\n"
   ]
  },
  {
   "cell_type": "code",
   "execution_count": 11,
   "metadata": {},
   "outputs": [
    {
     "name": "stdout",
     "output_type": "stream",
     "text": [
      "correct count = 7 out of 20\n",
      "35.0 %\n"
     ]
    }
   ],
   "source": [
    "count = 0\n",
    "\n",
    "for idx in range(20):\n",
    "    if targets[idx] == ans[idx]:\n",
    "        count += 1\n",
    "\n",
    "print(f'correct count = {count} out of {len(ans)}')\n",
    "print(f'{100.0 * count / len(ans)} %')"
   ]
  },
  {
   "cell_type": "code",
   "execution_count": null,
   "metadata": {},
   "outputs": [],
   "source": []
  },
  {
   "cell_type": "code",
   "execution_count": null,
   "metadata": {},
   "outputs": [],
   "source": []
  }
 ],
 "metadata": {
  "kernelspec": {
   "display_name": "fairseq-11",
   "language": "python",
   "name": "fairseq-11"
  },
  "language_info": {
   "codemirror_mode": {
    "name": "ipython",
    "version": 3
   },
   "file_extension": ".py",
   "mimetype": "text/x-python",
   "name": "python",
   "nbconvert_exporter": "python",
   "pygments_lexer": "ipython3",
   "version": "3.7.8"
  }
 },
 "nbformat": 4,
 "nbformat_minor": 4
}
